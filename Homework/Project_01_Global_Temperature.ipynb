{
  "cells": [
    {
      "cell_type": "markdown",
      "metadata": {
        "id": "LZt8KveAZGmu"
      },
      "source": [
        "# Project 1 - Planet Earth's Global Temperature\n",
        "\n",
        "\n",
        "In this project we will download temperature data from NASA’s Goddard Institute for Space Studies (**GISS**) and analyze it using **pandas** and **seaborn**."
      ]
    },
    {
      "cell_type": "markdown",
      "metadata": {
        "id": "r2OUbhjpZGmv"
      },
      "source": [
        "Include your name below:"
      ]
    },
    {
      "cell_type": "markdown",
      "metadata": {
        "id": "LqhqKotQZGmw"
      },
      "source": []
    },
    {
      "cell_type": "markdown",
      "metadata": {
        "id": "_CttsulmZGmw"
      },
      "source": [
        "\n",
        "### Introduction\n",
        "\n",
        "First, we must understand the data collection method. This method was original documented by Hansen and Lebedeff in [1987](https://pubs.giss.nasa.gov/docs/1987/1987_Hansen_ha00700d.pdf) and the study has been repeated many times including in [2010](https://pubs.giss.nasa.gov/docs/2010/2010_Hansen_ha00510u.pdf). A summary of the data collection method is as follows:\n",
        "1. Thousands of meteorological stations around the world (land and sea) measure the surface temperature. All measurements discussed here will be in Celsius.\n",
        "1. The world average temperature throughout every month for all stations is calculated. Systematic affects are corrected and uncertainty is estimated.\n",
        "1. The world average temperature every month for all meteorological stations during the three decade period 1951-1980 is defined to be the \"reference monthly average temperature\"\n",
        "1. The **tempeature anomaly** is defined:\n",
        "   * \"tempeature anomaly\" = \"world monthly average temperature\" - \"reference monthly average temperature\"\n",
        "\n",
        "### Accessing the data\n",
        "\n",
        "The GISS data can be found here: https://data.giss.nasa.gov/gistemp/\n",
        "\n",
        "From this link please find and download the CSV file\n",
        "\"Global-mean monthly, seasonal, and annual means, 1880-present, updated through most recent month\". The file name is GLB.Ts+dSST.csv.\n",
        "\n",
        "Use panda's `read_csv()` with the option `skiprows=1` to read in the data and setup a dataframe.\n",
        "\n",
        "### Data analysis Instructions\n",
        "\n",
        "1. Data inspection - Take a look at the dataframe you have created using `df.tail()` where df is the name I have given to my dataframe.\n",
        "    * You should see a \"Year\" column and a column for every month (\"Jan\", \"Feb\", etc.).\n",
        "        * There are also columns for averages:\n",
        "            * \"J-D\" = 1 year average temperature (January -> December)\n",
        "            * \"D-N\" = 1 year average temperature (December -> November)\n",
        "            * \"DJF\" = 3 month average temperature (Dec, Jan, Feb)\n",
        "            * \"MAM\" = 3 month average temperature (Mar, Apr, May)\n",
        "            * \"JJA\" = 3 month average temperature (Jun, Jul, Aug)\n",
        "            * \"SON\" = 3 month average temperature (Sep, Oct, Nov)<br><br>\n",
        "            \n",
        "2. Setup - Set the \"Year\" column as the dataframe index<br><br>\n",
        "\n",
        "3. Data cleaning - Note that the 2021 data is very recent (up to August 2021) and there is data missing for September->December. The missing data appears as three stars (\"`***`\"). We need to clean this up by replacing the stars with something that pandas understands: \"NaN\" = Not a Number. Also we should make sure that all datapoints are floats and not strings. We can accomplish this using the following lines (where df is the name I have given to the dataframe):\n",
        "~~~~\n",
        "df = df.replace(\"***\", \"NaN\")\n",
        "df = df.astype(float)\n",
        "~~~~\n",
        "<br><br>\n",
        "\n",
        "4. Make a new dataframe \"df_drop\" containing only the month data (dropping the averages 'J-D','D-N','DJF','MAM','JJA', and 'SON' using the pandas function `drop()`).<br><br>\n",
        "\n",
        "5. Make plots using your dataframe df_drop<br><br>\n",
        "    1. Make a plot of the January Temperature Anomaly (column \"Jan\"). The plot should contain the temperature anomaly in degrees celsius on the y-axis and the year on the x-axis. Basically you are plotting the data contained in one column of the dataframe vs the index of the dataframe (the year). Please label your axes and include temperature units. Note, you can make bigger plots and label the axes using the following syntax (example from a previous notebook):\n",
        "~~~\n",
        "fig, ax = plt.subplots(1, 1, figsize=(12, 8))\n",
        "df_pop3.loc[\"United Kingdom\"].NumericPopulation.plot(ax=ax,kind='bar')\n",
        "ax.set_ylabel(\"Population\")\n",
        "~~~\n",
        "<br><br>\n",
        "    1. Repeat the same plot but with option `kind='bar'`<br><br>\n",
        "    1. Make a new column in your new dataframe with column name \"Yearly Avg\" containing the 12-month average temperature for the year and plot this column (\"Yearly Average Temperature Anomaly\" vs \"Year\"). Calculate this average on your own (instead of relying on the \"J-D\" column which we just dropped). To do this you can use the pandas [mean()](https://pandas.pydata.org/pandas-docs/stable/reference/api/pandas.DataFrame.mean.html) function . My recommendation: Read the documentation linked above so that you can choose the option of taking the mean of a dataframe row instead of a column (option=\"axis\").<br><br>\n",
        "    1. Again plot \"Temperature Anomaly\" Vs \"Year\", this time as a line graph. Plot the temperature anomaly for all 12 months and for the yearly average. You should have a total of 13 lines drawn. Draw the yearly average line with a larger line width and with color black in order to make it stand out. Please label your axes and draw a legend.<br><br>\n",
        "    1. This time we want to plot \"Temperature Anomaly\" Vs \"Month\". We will do this for every every year (so there will be hundreds of lines drawn). The easiest way to do this is to use the transpose() function to convert the dataframe indeces to columns and the columns to indeces. I also recommend setting the color palette using plot() option `cmap=\"BuPu\"`. This will ensure that one can tell the old years from the more recent years. You may also want to draw the legend off to the side of the plot using the following syntax\n",
        "~~~\n",
        "plt.legend(bbox_to_anchor=(1.05, 1), loc=2, borderaxespad=0.)\n",
        "~~~\n",
        "    <br><br>\n",
        "    1. Use seaborn to plot the dataframe as a heatmap. The y-axis should be the month and the x-axis should be the year. The z-axis (the color of the heatmap) should represent the temperature anomaly. Again the easiest way to make the y-axis the month is to use the transpose() function on the dataframe. Choose a different color palette which you think will be a good way of representating the data https://matplotlib.org/examples/color/colormaps_reference.html<br><br>\n",
        "    \n",
        "    \n",
        "    \n",
        "    \n",
        "### Code:"
      ]
    },
    {
      "cell_type": "code",
      "execution_count": null,
      "metadata": {
        "collapsed": true,
        "id": "aJ2b4oj2ZGmw"
      },
      "outputs": [],
      "source": [
        "import pandas as pd\n",
        "import numpy as np\n",
        "import matplotlib.pyplot as plt\n",
        "import seaborn as sns\n",
        "#  sometimes necessary for plotting with Jupyter+pandas+pyplot\n",
        "%matplotlib inline"
      ]
    },
    {
      "cell_type": "code",
      "execution_count": null,
      "metadata": {
        "id": "o74LIuK2ZGmx",
        "outputId": "4574c1e6-161a-491f-f2a6-6216f35452a3"
      },
      "outputs": [
        {
          "data": {
            "application/javascript": [
              "IPython.OutputArea.prototype._should_scroll = function(lines) {\n",
              "    return false;\n",
              "}"
            ],
            "text/plain": [
              "<IPython.core.display.Javascript object>"
            ]
          },
          "metadata": {},
          "output_type": "display_data"
        }
      ],
      "source": [
        "%%javascript\n",
        "IPython.OutputArea.prototype._should_scroll = function(lines) {\n",
        "    return false;\n",
        "}"
      ]
    },
    {
      "cell_type": "code",
      "execution_count": null,
      "metadata": {
        "collapsed": true,
        "id": "lgPOvWaNZGmx"
      },
      "outputs": [],
      "source": []
    },
    {
      "cell_type": "code",
      "execution_count": null,
      "metadata": {
        "collapsed": true,
        "id": "v4g8ZfTGZGmx"
      },
      "outputs": [],
      "source": []
    }
  ],
  "metadata": {
    "kernelspec": {
      "display_name": "Python 3",
      "language": "python",
      "name": "python3"
    },
    "language_info": {
      "codemirror_mode": {
        "name": "ipython",
        "version": 3
      },
      "file_extension": ".py",
      "mimetype": "text/x-python",
      "name": "python",
      "nbconvert_exporter": "python",
      "pygments_lexer": "ipython3",
      "version": "3.8.8"
    },
    "colab": {
      "provenance": []
    }
  },
  "nbformat": 4,
  "nbformat_minor": 0
}